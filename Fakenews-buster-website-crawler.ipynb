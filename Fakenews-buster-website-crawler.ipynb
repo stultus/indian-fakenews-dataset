{
 "cells": [
  {
   "cell_type": "code",
   "execution_count": null,
   "metadata": {},
   "outputs": [],
   "source": [
    "import requests\n",
    "import urllib.request\n",
    "import time\n",
    "from bs4 import BeautifulSoup\n",
    "from pathlib import Path\n",
    "\n",
    "data_dir = \"./data/\""
   ]
  },
  {
   "cell_type": "markdown",
   "metadata": {},
   "source": [
    "## Samayam - Malayalam News\n",
    " * Article listing : https://malayalam.samayam.com/latest-news/fact-check/articlelist/66765139.cms?curpg=1"
   ]
  },
  {
   "cell_type": "code",
   "execution_count": null,
   "metadata": {},
   "outputs": [],
   "source": [
    "language_code = \"ml\"\n",
    "# Parse the first page and identify how many pages are there\n",
    "article_list_page =\"https://malayalam.samayam.com/latest-news/fact-check/articlelist/66765139.cms\" \n",
    "response = requests.get(article_list_page)\n",
    "soup = BeautifulSoup(response.text, \"html.parser\")\n",
    "pages = int(soup.select(\"#printpage>a\")[-1].string)\n",
    "print(\"Number of pages:\", pages)\n",
    "\n",
    "# Now go to all pages and create a list of articles to download,\n",
    "# I'm bruteforcing it in a single thread for now\n",
    "article_list = []\n",
    "for page in range(1, pages+1):\n",
    "    # we've alreaedy fetched the first page, ideally we don't have to fetch it again.\n",
    "    # but I'm doing it anyway since I'm lazy to handle it :P \n",
    "    url = article_list_page + f\"?curpg={page}\"\n",
    "    print(url)\n",
    "    response = requests.get(url)\n",
    "    soup = BeautifulSoup(response.text, \"html.parser\")\n",
    "    for item in soup.select(\".textsec>a\"):\n",
    "        article_list.append(item['href'])\n",
    "print(f\"\\n\\nTotal {len(article_list)} articles needs to be fetched\\n\\n\")\n",
    "# create ./data/ml/samayam directory if it is not there. \n",
    "Path(f\"{data_dir}{language_code}/samayam\").mkdir(parents=True, exist_ok=True)\n",
    "\n",
    "# Now go to each articles and save them \n",
    "for idx, article in enumerate(article_list):\n",
    "    try:\n",
    "        r = requests.get(article)\n",
    "    except Exception:\n",
    "        print(\"Exception while getting the article, trying next one.\")\n",
    "    article_id = article.split('/')[-1].split('.')[0]\n",
    "    with open(f'{data_dir}{language_code}/samayam/article{article_id}.txt', 'w') as file:\n",
    "        file.write(r.text)\n",
    "    print(f\"{idx+1}: Saved article: \", article)\n",
    "    time.sleep(1)"
   ]
  },
  {
   "cell_type": "code",
   "execution_count": null,
   "metadata": {},
   "outputs": [],
   "source": []
  }
 ],
 "metadata": {
  "kernelspec": {
   "display_name": "Python 3",
   "language": "python",
   "name": "python3"
  },
  "language_info": {
   "codemirror_mode": {
    "name": "ipython",
    "version": 3
   },
   "file_extension": ".py",
   "mimetype": "text/x-python",
   "name": "python",
   "nbconvert_exporter": "python",
   "pygments_lexer": "ipython3",
   "version": "3.8.2"
  }
 },
 "nbformat": 4,
 "nbformat_minor": 4
}
